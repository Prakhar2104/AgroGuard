{
 "cells": [
  {
   "cell_type": "code",
   "execution_count": 7,
   "id": "c5d776c5-58cc-4daa-9a60-4479d5911a76",
   "metadata": {},
   "outputs": [
    {
     "name": "stdout",
     "output_type": "stream",
     "text": [
      "Files in soil_dataset folder: ['soil_fertility.csv']\n",
      "\n",
      "First 5 rows of the dataset:\n",
      "     N    P    K    pH    EC    OC     S    Zn    Fe    Cu    Mn     B  Output\n",
      "0  138  8.6  560  7.46  0.62  0.70   5.9  0.24  0.31  0.77  8.71  0.11       0\n",
      "1  213  7.5  338  7.62  0.75  1.06  25.4  0.30  0.86  1.54  2.89  2.29       0\n",
      "2  163  9.6  718  7.59  0.51  1.11  14.3  0.30  0.86  1.57  2.70  2.03       0\n",
      "3  157  6.8  475  7.64  0.58  0.94  26.0  0.34  0.54  1.53  2.65  1.82       0\n",
      "4  270  9.9  444  7.63  0.40  0.86  11.8  0.25  0.76  1.69  2.43  2.26       1\n",
      "\n",
      "Dataset info:\n",
      "<class 'pandas.core.frame.DataFrame'>\n",
      "RangeIndex: 880 entries, 0 to 879\n",
      "Data columns (total 13 columns):\n",
      " #   Column  Non-Null Count  Dtype  \n",
      "---  ------  --------------  -----  \n",
      " 0   N       880 non-null    int64  \n",
      " 1   P       880 non-null    float64\n",
      " 2   K       880 non-null    int64  \n",
      " 3   pH      880 non-null    float64\n",
      " 4   EC      880 non-null    float64\n",
      " 5   OC      880 non-null    float64\n",
      " 6   S       880 non-null    float64\n",
      " 7   Zn      880 non-null    float64\n",
      " 8   Fe      880 non-null    float64\n",
      " 9   Cu      880 non-null    float64\n",
      " 10  Mn      880 non-null    float64\n",
      " 11  B       880 non-null    float64\n",
      " 12  Output  880 non-null    int64  \n",
      "dtypes: float64(10), int64(3)\n",
      "memory usage: 89.5 KB\n",
      "None\n"
     ]
    }
   ],
   "source": [
    "# STEP 1: Load the dataset\n",
    "import pandas as pd\n",
    "import os\n",
    "\n",
    "# Check if the folder exists\n",
    "dataset_path = \"../soil_dataset\"\n",
    "print(\"Files in soil_dataset folder:\", os.listdir(dataset_path))\n",
    "\n",
    "# Load the CSV file\n",
    "csv_file = os.path.join(dataset_path, \"soil_fertility.csv\")\n",
    "df = pd.read_csv(csv_file)\n",
    "\n",
    "# Show first 5 rows\n",
    "print(\"\\nFirst 5 rows of the dataset:\")\n",
    "print(df.head())\n",
    "\n",
    "# Check data types and missing values\n",
    "print(\"\\nDataset info:\")\n",
    "print(df.info())\n"
   ]
  },
  {
   "cell_type": "code",
   "execution_count": 8,
   "id": "dea167ec-2b3d-41e2-a1bc-dc9be9ab433b",
   "metadata": {},
   "outputs": [
    {
     "name": "stdout",
     "output_type": "stream",
     "text": [
      "Feature columns: ['N', 'P', 'K', 'pH', 'EC', 'OC', 'S', 'Zn', 'Fe', 'Cu', 'Mn', 'B']\n",
      "Target column unique values: [0 1 2]\n"
     ]
    }
   ],
   "source": [
    "# STEP 2: Separate features and target\n",
    "# Features (all columns except 'Output')\n",
    "X = df.drop(\"Output\", axis=1)\n",
    "\n",
    "# Target\n",
    "y = df[\"Output\"]\n",
    "\n",
    "# Quick check\n",
    "print(\"Feature columns:\", X.columns.tolist())\n",
    "print(\"Target column unique values:\", y.unique())\n"
   ]
  },
  {
   "cell_type": "code",
   "execution_count": 9,
   "id": "4673e044-6e15-47ff-b8c8-915d6f747413",
   "metadata": {},
   "outputs": [
    {
     "name": "stdout",
     "output_type": "stream",
     "text": [
      "Training set shape: (704, 12) (704,)\n",
      "Test set shape: (176, 12) (176,)\n"
     ]
    }
   ],
   "source": [
    "# STEP 3: Split the dataset\n",
    "from sklearn.model_selection import train_test_split\n",
    "\n",
    "# 80% train, 20% test\n",
    "X_train, X_test, y_train, y_test = train_test_split(\n",
    "    X, y, test_size=0.2, random_state=42, stratify=y\n",
    ")\n",
    "\n",
    "# Quick check\n",
    "print(\"Training set shape:\", X_train.shape, y_train.shape)\n",
    "print(\"Test set shape:\", X_test.shape, y_test.shape)\n"
   ]
  },
  {
   "cell_type": "code",
   "execution_count": 10,
   "id": "a85b4884-fcb6-46ce-8772-87c28eb63ab5",
   "metadata": {},
   "outputs": [
    {
     "name": "stdout",
     "output_type": "stream",
     "text": [
      "First 5 rows of scaled features (train):\n",
      "[[ 6.99460089e-01 -2.08808131e-01 -1.14216140e+00 -1.31077499e+01\n",
      "  -1.83152796e-01  2.79188410e-01  1.28810860e-01 -2.83647234e-02\n",
      "   6.79420565e-01  6.76419731e-01  7.22933086e-02 -4.69884791e-01]\n",
      " [-8.38544332e-01 -2.91064306e-01  6.94090121e-02 -5.63332270e-01\n",
      "   1.30134881e+00  2.03820539e-01  5.87998368e-01 -5.67294468e-02\n",
      "  -6.06014035e-01  1.27106344e+00 -1.36203743e+00  2.59257902e+00]\n",
      " [-1.08410806e+00 -2.22517493e-01  1.79671548e+00  1.50094326e-01\n",
      "  -2.53843349e-01  5.26825701e-01  1.50191525e+00 -8.98216241e-02\n",
      "  -1.01896766e+00  1.38118264e+00 -1.37358599e+00  2.53977792e+00]\n",
      " [ 1.34568043e+00 -2.08808131e-01  5.85145066e-01 -2.26436377e-01\n",
      "  -1.31420164e+00  6.38516359e-02  4.65399762e-01 -7.56392624e-02\n",
      "  -1.09227716e-01  8.52610459e-01  1.01696525e+00 -4.87485158e-01]\n",
      " [-5.15434159e-01 -3.82460055e-01 -3.64464176e-01 -2.26436377e-01\n",
      "  -8.19367771e-01 -5.39091333e-01 -1.12838212e+00 -6.61843546e-02\n",
      "  -6.57589135e-02 -1.38462387e-01  7.62139124e-03 -9.27494327e-01]]\n"
     ]
    }
   ],
   "source": [
    "# STEP 4: Feature scaling\n",
    "from sklearn.preprocessing import StandardScaler\n",
    "\n",
    "# Initialize scaler\n",
    "scaler = StandardScaler()\n",
    "\n",
    "# Fit on training data and transform\n",
    "X_train_scaled = scaler.fit_transform(X_train)\n",
    "\n",
    "# Transform test data\n",
    "X_test_scaled = scaler.transform(X_test)\n",
    "\n",
    "# Quick check\n",
    "print(\"First 5 rows of scaled features (train):\")\n",
    "print(X_train_scaled[:5])\n"
   ]
  },
  {
   "cell_type": "code",
   "execution_count": 11,
   "id": "73ad1f53-36b6-432c-bf31-8c6b93aa5c9e",
   "metadata": {},
   "outputs": [
    {
     "name": "stdout",
     "output_type": "stream",
     "text": [
      "Test Accuracy: 0.8920454545454546\n",
      "\n",
      "Classification Report:\n",
      "              precision    recall  f1-score   support\n",
      "\n",
      "           0       0.91      0.93      0.92        80\n",
      "           1       0.87      0.94      0.91        88\n",
      "           2       0.00      0.00      0.00         8\n",
      "\n",
      "    accuracy                           0.89       176\n",
      "   macro avg       0.60      0.62      0.61       176\n",
      "weighted avg       0.85      0.89      0.87       176\n",
      "\n"
     ]
    },
    {
     "name": "stderr",
     "output_type": "stream",
     "text": [
      "C:\\Users\\tiwar\\anaconda3\\Lib\\site-packages\\sklearn\\metrics\\_classification.py:1531: UndefinedMetricWarning: Precision is ill-defined and being set to 0.0 in labels with no predicted samples. Use `zero_division` parameter to control this behavior.\n",
      "  _warn_prf(average, modifier, f\"{metric.capitalize()} is\", len(result))\n",
      "C:\\Users\\tiwar\\anaconda3\\Lib\\site-packages\\sklearn\\metrics\\_classification.py:1531: UndefinedMetricWarning: Precision is ill-defined and being set to 0.0 in labels with no predicted samples. Use `zero_division` parameter to control this behavior.\n",
      "  _warn_prf(average, modifier, f\"{metric.capitalize()} is\", len(result))\n",
      "C:\\Users\\tiwar\\anaconda3\\Lib\\site-packages\\sklearn\\metrics\\_classification.py:1531: UndefinedMetricWarning: Precision is ill-defined and being set to 0.0 in labels with no predicted samples. Use `zero_division` parameter to control this behavior.\n",
      "  _warn_prf(average, modifier, f\"{metric.capitalize()} is\", len(result))\n"
     ]
    }
   ],
   "source": [
    "# STEP 5: Train a Random Forest Classifier\n",
    "from sklearn.ensemble import RandomForestClassifier\n",
    "from sklearn.metrics import classification_report, accuracy_score\n",
    "\n",
    "# Initialize the model\n",
    "rf_model = RandomForestClassifier(n_estimators=100, random_state=42)\n",
    "\n",
    "# Train the model\n",
    "rf_model.fit(X_train_scaled, y_train)\n",
    "\n",
    "# Predict on test set\n",
    "y_pred = rf_model.predict(X_test_scaled)\n",
    "\n",
    "# Evaluate\n",
    "print(\"Test Accuracy:\", accuracy_score(y_test, y_pred))\n",
    "print(\"\\nClassification Report:\")\n",
    "print(classification_report(y_test, y_pred))\n"
   ]
  },
  {
   "cell_type": "code",
   "execution_count": 12,
   "id": "e7089956-41f1-4e34-8aaa-5c55e3aa0afe",
   "metadata": {},
   "outputs": [
    {
     "name": "stdout",
     "output_type": "stream",
     "text": [
      "Class weights: {0: 0.731048805815161, 1: 0.6666666666666666, 2: 7.56989247311828}\n",
      "Test Accuracy: 0.8977272727272727\n",
      "\n",
      "Classification Report:\n",
      "              precision    recall  f1-score   support\n",
      "\n",
      "           0       0.93      0.93      0.93        80\n",
      "           1       0.88      0.93      0.91        88\n",
      "           2       0.67      0.25      0.36         8\n",
      "\n",
      "    accuracy                           0.90       176\n",
      "   macro avg       0.82      0.70      0.73       176\n",
      "weighted avg       0.89      0.90      0.89       176\n",
      "\n"
     ]
    }
   ],
   "source": [
    "from sklearn.utils.class_weight import compute_class_weight\n",
    "import numpy as np\n",
    "\n",
    "# Compute class weights\n",
    "classes = np.unique(y_train)\n",
    "weights = compute_class_weight(class_weight='balanced', classes=classes, y=y_train)\n",
    "class_weights = dict(zip(classes, weights))\n",
    "print(\"Class weights:\", class_weights)\n",
    "\n",
    "# Train RF with class weights\n",
    "rf_model = RandomForestClassifier(n_estimators=100, random_state=42, class_weight=class_weights)\n",
    "rf_model.fit(X_train_scaled, y_train)\n",
    "\n",
    "# Predict & evaluate\n",
    "y_pred = rf_model.predict(X_test_scaled)\n",
    "from sklearn.metrics import classification_report, accuracy_score\n",
    "print(\"Test Accuracy:\", accuracy_score(y_test, y_pred))\n",
    "print(\"\\nClassification Report:\")\n",
    "print(classification_report(y_test, y_pred))\n"
   ]
  },
  {
   "cell_type": "code",
   "execution_count": 13,
   "id": "efaf1950-e6a8-42cc-8e6a-afe72eb750ff",
   "metadata": {},
   "outputs": [
    {
     "name": "stdout",
     "output_type": "stream",
     "text": [
      "✅ Model saved to: ../soil_dataset/models\\soil_rf_model.pkl\n",
      "✅ Scaler saved to: ../soil_dataset/models\\soil_scaler.pkl\n"
     ]
    }
   ],
   "source": [
    "import joblib\n",
    "import os\n",
    "\n",
    "# Folder to save model\n",
    "model_folder = \"../soil_dataset/models\"\n",
    "os.makedirs(model_folder, exist_ok=True)\n",
    "\n",
    "# Save the trained model\n",
    "model_file = os.path.join(model_folder, \"soil_rf_model.pkl\")\n",
    "joblib.dump(rf_model, model_file)\n",
    "\n",
    "# Save the scaler\n",
    "scaler_file = os.path.join(model_folder, \"soil_scaler.pkl\")\n",
    "joblib.dump(scaler, scaler_file)\n",
    "\n",
    "print(\"✅ Model saved to:\", model_file)\n",
    "print(\"✅ Scaler saved to:\", scaler_file)\n"
   ]
  },
  {
   "cell_type": "code",
   "execution_count": 14,
   "id": "9a9a515b-bbb3-42c7-8903-9b33fdf10313",
   "metadata": {},
   "outputs": [
    {
     "name": "stdout",
     "output_type": "stream",
     "text": [
      "Predicted Soil Fertility Class: 0\n"
     ]
    },
    {
     "name": "stderr",
     "output_type": "stream",
     "text": [
      "C:\\Users\\tiwar\\anaconda3\\Lib\\site-packages\\sklearn\\base.py:493: UserWarning: X does not have valid feature names, but StandardScaler was fitted with feature names\n",
      "  warnings.warn(\n"
     ]
    }
   ],
   "source": [
    "# STEP 8: Predict soil quality from user input\n",
    "import numpy as np\n",
    "import joblib\n",
    "\n",
    "# Load the saved model and scaler\n",
    "model = joblib.load(\"../soil_dataset/models/soil_rf_model.pkl\")\n",
    "scaler = joblib.load(\"../soil_dataset/models/soil_scaler.pkl\")\n",
    "\n",
    "# Example: manually input features\n",
    "user_input = {\n",
    "    \"N\": 150,\n",
    "    \"P\": 10,\n",
    "    \"K\": 300,\n",
    "    \"pH\": 6.5,\n",
    "    \"EC\": 0.5,\n",
    "    \"OC\": 0.8,\n",
    "    \"S\": 10,\n",
    "    \"Zn\": 0.3,\n",
    "    \"Fe\": 0.4,\n",
    "    \"Cu\": 0.2,\n",
    "    \"Mn\": 2.0,\n",
    "    \"B\": 0.1\n",
    "}\n",
    "\n",
    "# Convert input to array\n",
    "input_array = np.array([list(user_input.values())])\n",
    "\n",
    "# Scale features\n",
    "input_scaled = scaler.transform(input_array)\n",
    "\n",
    "# Predict\n",
    "pred_class = model.predict(input_scaled)[0]\n",
    "print(\"Predicted Soil Fertility Class:\", pred_class)\n"
   ]
  },
  {
   "cell_type": "code",
   "execution_count": 15,
   "id": "2c4c2e4f-263c-4611-8e31-787ae285634d",
   "metadata": {},
   "outputs": [
    {
     "name": "stdout",
     "output_type": "stream",
     "text": [
      "Predicted Soil Fertility Class: Low\n"
     ]
    }
   ],
   "source": [
    "# Load model and scaler\n",
    "import pandas as pd\n",
    "import numpy as np\n",
    "import joblib\n",
    "\n",
    "model = joblib.load(\"../soil_dataset/models/soil_rf_model.pkl\")\n",
    "scaler = joblib.load(\"../soil_dataset/models/soil_scaler.pkl\")\n",
    "\n",
    "# User input as a DataFrame (preserves column names)\n",
    "user_input = pd.DataFrame([{\n",
    "    \"N\": 150,\n",
    "    \"P\": 10,\n",
    "    \"K\": 300,\n",
    "    \"pH\": 6.5,\n",
    "    \"EC\": 0.5,\n",
    "    \"OC\": 0.8,\n",
    "    \"S\": 10,\n",
    "    \"Zn\": 0.3,\n",
    "    \"Fe\": 0.4,\n",
    "    \"Cu\": 0.2,\n",
    "    \"Mn\": 2.0,\n",
    "    \"B\": 0.1\n",
    "}])\n",
    "\n",
    "# Scale features\n",
    "input_scaled = scaler.transform(user_input)\n",
    "\n",
    "# Predict\n",
    "pred_class = model.predict(input_scaled)[0]\n",
    "\n",
    "# Map numeric class to readable label\n",
    "class_map = {0: \"Low\", 1: \"Medium\", 2: \"High\"}\n",
    "print(\"Predicted Soil Fertility Class:\", class_map[pred_class])\n"
   ]
  },
  {
   "cell_type": "code",
   "execution_count": null,
   "id": "97eee376-da7c-4f93-936c-06e8c0559fcb",
   "metadata": {},
   "outputs": [],
   "source": []
  }
 ],
 "metadata": {
  "kernelspec": {
   "display_name": "Python [conda env:base] *",
   "language": "python",
   "name": "conda-base-py"
  },
  "language_info": {
   "codemirror_mode": {
    "name": "ipython",
    "version": 3
   },
   "file_extension": ".py",
   "mimetype": "text/x-python",
   "name": "python",
   "nbconvert_exporter": "python",
   "pygments_lexer": "ipython3",
   "version": "3.12.7"
  }
 },
 "nbformat": 4,
 "nbformat_minor": 5
}
