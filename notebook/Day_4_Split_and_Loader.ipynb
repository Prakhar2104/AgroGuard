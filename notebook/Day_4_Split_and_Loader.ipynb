{
 "cells": [
  {
   "cell_type": "code",
   "execution_count": 8,
   "id": "fcc7b861-8fd3-488c-84da-cba3817572ff",
   "metadata": {},
   "outputs": [
    {
     "name": "stdout",
     "output_type": "stream",
     "text": [
      "✅ Folder setup complete\n"
     ]
    }
   ],
   "source": [
    "import os\n",
    "import shutil\n",
    "import random\n",
    "from tqdm import tqdm\n",
    "\n",
    "# ✅ Raw dataset path (already merged and cleaned)\n",
    "raw_dataset_path = r\"C:\\Users\\tiwar\\plant_disease_detection\\Dataset\"\n",
    "\n",
    "# ✅ Preprocessed output folder (train/test will be created here)\n",
    "preprocessed_path = r\"C:\\Users\\tiwar\\plant_disease_detection\\preprocessed_dataset\"\n",
    "\n",
    "train_dir = os.path.join(preprocessed_path, \"train\")\n",
    "test_dir = os.path.join(preprocessed_path, \"test\")\n",
    "\n",
    "os.makedirs(train_dir, exist_ok=True)\n",
    "os.makedirs(test_dir, exist_ok=True)\n",
    "\n",
    "print(\"✅ Folder setup complete\")\n"
   ]
  },
  {
   "cell_type": "code",
   "execution_count": 9,
   "id": "25048ca7-0722-4820-a45b-c68a6fce7b7f",
   "metadata": {},
   "outputs": [
    {
     "name": "stdout",
     "output_type": "stream",
     "text": [
      "🧠 Total images found: 31368\n"
     ]
    }
   ],
   "source": [
    "all_image_paths = []\n",
    "\n",
    "for dataset_subfolder in os.listdir(raw_dataset_path):\n",
    "    dataset_path = os.path.join(raw_dataset_path, dataset_subfolder)\n",
    "\n",
    "    if not os.path.isdir(dataset_path):\n",
    "        continue\n",
    "\n",
    "    for class_name in os.listdir(dataset_path):\n",
    "        class_path = os.path.join(dataset_path, class_name)\n",
    "        if not os.path.isdir(class_path):\n",
    "            continue\n",
    "\n",
    "        for img_name in os.listdir(class_path):\n",
    "            img_path = os.path.join(class_path, img_name)\n",
    "            all_image_paths.append((img_path, class_name))\n",
    "\n",
    "print(f\"🧠 Total images found: {len(all_image_paths)}\")\n"
   ]
  },
  {
   "cell_type": "code",
   "execution_count": 10,
   "id": "28041800-63c0-4539-bbd5-2ca02dbd5a1c",
   "metadata": {},
   "outputs": [
    {
     "name": "stdout",
     "output_type": "stream",
     "text": [
      "✅ Training images: 25094\n",
      "✅ Testing images: 6274\n"
     ]
    }
   ],
   "source": [
    "# Shuffle to avoid bias\n",
    "random.shuffle(all_image_paths)\n",
    "\n",
    "# 80-20 split\n",
    "split_ratio = 0.8\n",
    "split_index = int(len(all_image_paths) * split_ratio)\n",
    "\n",
    "train_data = all_image_paths[:split_index]\n",
    "test_data = all_image_paths[split_index:]\n",
    "\n",
    "print(f\"✅ Training images: {len(train_data)}\")\n",
    "print(f\"✅ Testing images: {len(test_data)}\")\n"
   ]
  },
  {
   "cell_type": "code",
   "execution_count": 11,
   "id": "5867ede6-08d6-405a-8ea4-fc29ffa2950f",
   "metadata": {},
   "outputs": [
    {
     "name": "stderr",
     "output_type": "stream",
     "text": [
      "📦 Copying to C:\\Users\\tiwar\\plant_disease_detection\\preprocessed_dataset\\train: 100%|█| 25094/25094 [05:06<00:00, 81.8\n",
      "📦 Copying to C:\\Users\\tiwar\\plant_disease_detection\\preprocessed_dataset\\test:   1%| | 57/6274 [00:01<01:48, 57.14it/s"
     ]
    },
    {
     "name": "stdout",
     "output_type": "stream",
     "text": [
      "⚠️ Error copying C:\\Users\\tiwar\\plant_disease_detection\\Dataset\\agri_india\\Healthy Wheat\\Wheat___Healthy: [Errno 13] Permission denied: 'C:\\\\Users\\\\tiwar\\\\plant_disease_detection\\\\Dataset\\\\agri_india\\\\Healthy Wheat\\\\Wheat___Healthy'\n"
     ]
    },
    {
     "name": "stderr",
     "output_type": "stream",
     "text": [
      "📦 Copying to C:\\Users\\tiwar\\plant_disease_detection\\preprocessed_dataset\\test: 100%|█| 6274/6274 [01:20<00:00, 78.23it"
     ]
    },
    {
     "name": "stdout",
     "output_type": "stream",
     "text": [
      "✅ All files copied successfully.\n"
     ]
    },
    {
     "name": "stderr",
     "output_type": "stream",
     "text": [
      "\n"
     ]
    }
   ],
   "source": [
    "def copy_data(data, target_dir):\n",
    "    for img_path, class_name in tqdm(data, desc=f\"📦 Copying to {target_dir}\"):\n",
    "        class_folder = os.path.join(target_dir, class_name)\n",
    "        os.makedirs(class_folder, exist_ok=True)\n",
    "\n",
    "        file_name = os.path.basename(img_path)\n",
    "        target_path = os.path.join(class_folder, file_name)\n",
    "\n",
    "        try:\n",
    "            shutil.copy(img_path, target_path)\n",
    "        except Exception as e:\n",
    "            print(f\"⚠️ Error copying {img_path}: {e}\")\n",
    "\n",
    "# Copying data\n",
    "copy_data(train_data, train_dir)\n",
    "copy_data(test_data, test_dir)\n",
    "\n",
    "print(\"✅ All files copied successfully.\")\n"
   ]
  },
  {
   "cell_type": "code",
   "execution_count": 14,
   "id": "df6ddcfb-505e-4447-8652-f09113ef6388",
   "metadata": {},
   "outputs": [
    {
     "name": "stdout",
     "output_type": "stream",
     "text": [
      "✅ Train Classes Found: 83\n",
      "✅ Test Classes Found:  83\n",
      "✅ Train and Test classes are perfectly aligned.\n",
      "🖼️ Total Train Images: 25092\n",
      "🖼️ Total Test Images:  6271\n",
      "🏁 Dataset verification complete!\n"
     ]
    }
   ],
   "source": [
    "import os\n",
    "\n",
    "train_path = r\"C:\\Users\\tiwar\\plant_disease_detection\\preprocessed_dataset\\train\"\n",
    "test_path = r\"C:\\Users\\tiwar\\plant_disease_detection\\preprocessed_dataset\\test\"\n",
    "\n",
    "def verify_dataset_structure(train_dir, test_dir):\n",
    "    if not os.path.exists(train_dir):\n",
    "        print(\"❌ Train folder not found!\")\n",
    "        return\n",
    "    if not os.path.exists(test_dir):\n",
    "        print(\"❌ Test folder not found!\")\n",
    "        return\n",
    "\n",
    "    train_classes = sorted([d for d in os.listdir(train_dir) if os.path.isdir(os.path.join(train_dir, d))])\n",
    "    test_classes = sorted([d for d in os.listdir(test_dir) if os.path.isdir(os.path.join(test_dir, d))])\n",
    "\n",
    "    print(f\"✅ Train Classes Found: {len(train_classes)}\")\n",
    "    print(f\"✅ Test Classes Found:  {len(test_classes)}\")\n",
    "\n",
    "    if train_classes != test_classes:\n",
    "        print(\"🚨 Mismatch in train and test class names!\")\n",
    "        print(f\"🔍 Train-only classes: {set(train_classes) - set(test_classes)}\")\n",
    "        print(f\"🔍 Test-only classes:  {set(test_classes) - set(train_classes)}\")\n",
    "    else:\n",
    "        print(\"✅ Train and Test classes are perfectly aligned.\")\n",
    "\n",
    "    # Count total images\n",
    "    total_train_images = sum([len(files) for r, d, files in os.walk(train_dir)])\n",
    "    total_test_images = sum([len(files) for r, d, files in os.walk(test_dir)])\n",
    "\n",
    "    print(f\"🖼️ Total Train Images: {total_train_images}\")\n",
    "    print(f\"🖼️ Total Test Images:  {total_test_images}\")\n",
    "    print(\"🏁 Dataset verification complete!\")\n",
    "\n",
    "# Run verification\n",
    "verify_dataset_structure(train_path, test_path)\n"
   ]
  },
  {
   "cell_type": "code",
   "execution_count": null,
   "id": "eee8d0ea-5319-4d85-ab47-b24e2b4076ac",
   "metadata": {},
   "outputs": [],
   "source": []
  }
 ],
 "metadata": {
  "kernelspec": {
   "display_name": "Python [conda env:base] *",
   "language": "python",
   "name": "conda-base-py"
  },
  "language_info": {
   "codemirror_mode": {
    "name": "ipython",
    "version": 3
   },
   "file_extension": ".py",
   "mimetype": "text/x-python",
   "name": "python",
   "nbconvert_exporter": "python",
   "pygments_lexer": "ipython3",
   "version": "3.12.7"
  }
 },
 "nbformat": 4,
 "nbformat_minor": 5
}
